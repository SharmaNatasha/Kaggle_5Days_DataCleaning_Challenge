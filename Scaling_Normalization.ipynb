{
  "cells": [
    {
      "metadata": {
        "_uuid": "6ac53f18b4f4ec0fc44348cedb5d1c319fa127c0",
        "_cell_guid": "b91a74ba-85f4-486e-b5f9-d0898f0626bf"
      },
      "cell_type": "markdown",
      "source": "### Previous days\n\n* [Day 1: Handling missing values](https://www.kaggle.com/rtatman/data-cleaning-challenge-handling-missing-values)\n___\nWelcome to day 2 of the 5-Day Data Challenge! Today, we're going to be looking at how to scale and normalize data (and what the difference is between the two!). To get started, click the blue \"Fork Notebook\" button in the upper, right hand corner. This will create a private copy of this notebook that you can edit and play with. Once you're finished with the exercises, you can choose to make your notebook public to share with others. :)\n\n> **Your turn!** As we work through this notebook, you'll see some notebook cells (a block of either code or text) that has \"Your Turn!\" written in it. These are exercises for you to do to help cement your understanding of the concepts we're talking about. Once you've written the code to answer a specific question, you can run the code by clicking inside the cell (box with code in it) with the code you want to run and then hit CTRL + ENTER (CMD + ENTER on a Mac). You can also click in a cell and then click on the right \"play\" arrow to the left of the code. If you want to run all the code in your notebook, you can use the double, \"fast forward\" arrows at the bottom of the notebook editor.\n\nHere's what we're going to do today:\n\n* [Get our environment set up](#Get-our-environment-set-up)\n* [Scaling vs. Normalization: What's the difference?](#Scaling-vs.-Normalization:-What's-the-difference?)\n* [Practice scaling](#Practice-scaling)\n* [Practice normalization](#Practice-normalization)\n\nLet's get started!"
    },
    {
      "metadata": {
        "_uuid": "9d82bf13584b8e682962fbb96131f2447d741679",
        "_cell_guid": "5cd5061f-ae30-4837-a53b-690ffd5c5830"
      },
      "cell_type": "markdown",
      "source": "# Get our environment set up\n________\n\nThe first thing we'll need to do is load in the libraries and datasets we'll be using. \n\n> **Important!** Make sure you run this cell yourself or the rest of your code won't work!"
    },
    {
      "metadata": {
        "collapsed": true,
        "_uuid": "835cbe0834b935fb0fd40c75b9c39454836f4d5f",
        "_cell_guid": "135a7804-b5f5-40aa-8657-4a15774e3666",
        "trusted": false
      },
      "cell_type": "code",
      "source": "# modules we'll use\nimport pandas as pd\nimport numpy as np\n\n# for Box-Cox Transformation\nfrom scipy import stats\n\n# for min_max scaling\nfrom mlxtend.preprocessing import minmax_scaling\n\n# plotting modules\nimport seaborn as sns\nimport matplotlib.pyplot as plt\n\n# read in all our data\nkickstarters_2017 = pd.read_csv(\"../input/kickstarter-projects/ks-projects-201801.csv\")\n\n# set seed for reproducibility\nnp.random.seed(0)",
      "execution_count": null,
      "outputs": []
    },
    {
      "metadata": {
        "_uuid": "03ce3b4afe87d98f777172c2c7be066a66a0b237",
        "_cell_guid": "604ac3a4-b1d9-4264-b312-4bbeecdeec00"
      },
      "cell_type": "markdown",
      "source": "Now that we're set up, let's learn about scaling & normalization. (If you like, you can take this opportunity to take a look at some of the data.)"
    },
    {
      "metadata": {
        "_uuid": "032a618abb98a28e60ab84376cf21402178f995d",
        "_cell_guid": "62b9f021-5b80-43e2-bf60-8e0d5e22d572"
      },
      "cell_type": "markdown",
      "source": "# Scaling vs. Normalization: What's the difference?\n____\n\nOne of the reasons that it's easy to get confused between scaling and normalization is because the terms are sometimes used interchangeably and, to make it even more confusing, they are very similar! In both cases, you're transforming the values of numeric variables so that the transformed data points have specific helpful properties. The difference is that, in scaling, you're changing the *range* of your data while in normalization you're changing the *shape of the distribution* of your data. Let's talk a little more in-depth about each of these options. \n\n___\n\n## **Scaling**\n\nThis means that you're transforming your data so that it fits within a specific scale, like 0-100 or 0-1.  You want to scale data when you're using methods based on measures of how far apart data points, like [support vector machines, or SVM](https://en.wikipedia.org/wiki/Support_vector_machine) or [k-nearest neighbors, or KNN](https://en.wikipedia.org/wiki/K-nearest_neighbors_algorithm). With these algorithms, a change of \"1\" in any numeric feature is given the same importance. \n\nFor example, you might be looking at the prices of some products in both Yen and US Dollars. One US Dollar is worth about 100 Yen, but if you don't scale your prices methods like SVM or KNN will consider a difference in price of 1 Yen as important as a difference of 1 US Dollar! This clearly doesn't fit with our intuitions of the world. With currency, you can convert between currencies. But what about if you're looking at something like height and weight? It's not entirely clear how many pounds should equal one inch (or how many kilograms should equal one meter).\n\nBy scaling your variables, you can help compare different variables on equal footing. To help solidify what scaling looks like, let's look at a made-up example. (Don't worry, we'll work with real data in just a second, this is just to help illustrate my point.)\n"
    },
    {
      "metadata": {
        "_uuid": "e35280c753de7b963c4d812624c816c766ef4367",
        "_cell_guid": "e0942c00-e306-4c64-a53a-e76d07cd937f",
        "trusted": false,
        "collapsed": true
      },
      "cell_type": "code",
      "source": "# generate 1000 data points randomly drawn from an exponential distribution\noriginal_data = np.random.exponential(size = 1000)\n#original_data\n# mix-max scale the data between 0 and 1\nscaled_data = minmax_scaling(original_data, columns = [0])\n\n# plot both together to compare\nfig, ax=plt.subplots(1,2)\nsns.distplot(original_data, ax=ax[0])\nax[0].set_title(\"Original Data\")\nsns.distplot(scaled_data, ax=ax[1])\nax[1].set_title(\"Scaled data\")",
      "execution_count": null,
      "outputs": []
    },
    {
      "metadata": {
        "_uuid": "a2523383e47af8d7902b75c5da7829b85553dcae",
        "_cell_guid": "ed530656-2707-4978-835c-c665a9e25ec0"
      },
      "cell_type": "markdown",
      "source": "Notice that the *shape* of the data doesn't change, but that instead of ranging from 0 to 8ish, it now ranges from 0 to 1.\n\n___\n## Normalization\n\nScaling just changes the range of your data. Normalization is a more radical transformation. The point of normalization is to change your observations so that they can be described as a normal distribution.\n\n> **[Normal distribution:](https://en.wikipedia.org/wiki/Normal_distribution)** Also known as the \"bell curve\", this is a specific statistical distribution where a roughly equal observations fall above and below the mean, the mean and the median are the same, and there are more observations closer to the mean. The normal distribution is also known as the Gaussian distribution.\n\nIn general, you'll only want to normalize your data if you're going to be using a machine learning or statistics technique that assumes your data is normally distributed. Some examples of these include t-tests, ANOVAs, linear regression, linear discriminant analysis (LDA) and Gaussian naive Bayes. (Pro tip: any method with \"Gaussian\" in the name probably assumes normality.)\n\nThe method were  using to normalize here is called the [Box-Cox Transformation](https://en.wikipedia.org/wiki/Power_transform#Box%E2%80%93Cox_transformation). Let's take a quick peek at what normalizing some data looks like:"
    },
    {
      "metadata": {
        "scrolled": false,
        "_cell_guid": "851dc531-ea15-46f4-ba59-2e9be614856c",
        "_uuid": "e1484f70203b1a9335a557939398beb45b3a4fbd",
        "trusted": false,
        "collapsed": true
      },
      "cell_type": "code",
      "source": "# normalize the exponential data with boxcox\nnormalized_data = stats.boxcox(original_data)\n\n# plot both together to compare\nfig, ax=plt.subplots(1,2)\nsns.distplot(original_data, ax=ax[0])\nax[0].set_title(\"Original Data\")\nsns.distplot(normalized_data[0], ax=ax[1])\nax[1].set_title(\"Normalized data\")",
      "execution_count": null,
      "outputs": []
    },
    {
      "metadata": {
        "_uuid": "5975eb63a310ca983facc4a8b969e235fee58c74",
        "_cell_guid": "52011105-e1e3-4bb0-9b59-59614a96e3d4"
      },
      "cell_type": "markdown",
      "source": "Notice that the *shape* of our data has changed. Before normalizing it was almost L-shaped. But after normalizing it looks more like the outline of a bell (hence \"bell curve\"). \n\n___\n## Your turn!\n\nFor the following example, decide whether scaling or normalization makes more sense. \n\n* You want to build a linear regression model to predict someone's grades given how much time they spend on various activities during a normal school week.  You notice that your measurements for how much time students spend studying aren't normally distributed: some students spend almost no time studying and others study for four or more hours every day. Should you scale or normalize this variable?\n* You're still working on your grades study, but you want to include information on how students perform on several fitness tests as well. You have information on how many jumping jacks and push-ups each student can complete in a minute. However, you notice that students perform far more jumping jacks than push-ups: the average for the former is 40, and for the latter only 10. Should you scale or normalize these variables?"
    },
    {
      "metadata": {
        "_uuid": "0c4d06413046e632dd1936095028587af3be0e47",
        "_cell_guid": "fc728697-ce3e-4890-b14d-597b2281f30d"
      },
      "cell_type": "markdown",
      "source": "# Practice scaling\n___\n\nTo practice scaling and normalization, we're going to be using a dataset of Kickstarter campaigns. (Kickstarter is a website where people can ask people to invest in various projects and concept products.)\n\nLet's start by scaling the goals of each campaign, which is how much money they were asking for."
    },
    {
      "metadata": {
        "_uuid": "9c6aaa573dbd346106b120c499b967718919d520",
        "_cell_guid": "75fa5e59-ad69-4386-82a1-cb2f160f8a81",
        "trusted": false,
        "collapsed": true
      },
      "cell_type": "code",
      "source": "# select the usd_goal_real column\nusd_goal = kickstarters_2017.usd_goal_real\n\n# scale the goals from 0 to 1\nscaled_data = minmax_scaling(usd_goal, columns = [0])\n\n# plot the original & scaled data together to compare\nfig, ax=plt.subplots(1,2)\nsns.distplot(kickstarters_2017.usd_goal_real, ax=ax[0])\nax[0].set_title(\"Original Data\")\nsns.distplot(scaled_data, ax=ax[1])\nax[1].set_title(\"Scaled data\")",
      "execution_count": null,
      "outputs": []
    },
    {
      "metadata": {
        "_uuid": "71d69ec4508b1b7048cd9592605e17884e6aed25",
        "_cell_guid": "73e0fc8b-1c49-4413-874f-d38f36c1b874"
      },
      "cell_type": "markdown",
      "source": "You can see that scaling changed the scales of the plots dramatically (but not the shape of the data: it looks like most campaigns have small goals but a few have very large ones)"
    },
    {
      "metadata": {
        "_uuid": "6ab743a9bb0a40ca7921fc506f39f41217e47ab3",
        "_cell_guid": "48520608-4b0b-4552-82c8-8be9e738a378",
        "trusted": false,
        "collapsed": true
      },
      "cell_type": "code",
      "source": "# Your turn! \n\n# We just scaled the \"usd_goal_real\" column. What about the \"goal\" column?\ngoal = kickstarters_2017.goal\n\n# scale the goals from 0 to 1\nscaled_data = minmax_scaling(goal, columns = [0])\n\n# plot the original & scaled data together to compare\nfig, ax=plt.subplots(1,2)\nsns.distplot(kickstarters_2017.goal, ax=ax[0])\nax[0].set_title(\"Original Data\")\nsns.distplot(scaled_data, ax=ax[1])\nax[1].set_title(\"Scaled data\")\n",
      "execution_count": null,
      "outputs": []
    },
    {
      "metadata": {
        "_uuid": "e19939624c42f1e3a0ca371d883ac417adb31ab7",
        "_cell_guid": "c03c3281-b5e5-4018-88ff-dfd119d33b42"
      },
      "cell_type": "markdown",
      "source": "# Practice normalization\n___\n\nOk, now let's try practicing normalization. We're going to normalize the amount of money pledged to each campaign."
    },
    {
      "metadata": {
        "_uuid": "4b45fd281c4b2004ad9e02b7b4391100cca7023a",
        "_cell_guid": "e04c0984-b844-44e6-8b15-c9f2660a15f0",
        "trusted": false,
        "collapsed": true
      },
      "cell_type": "code",
      "source": "# get the index of all positive pledges (Box-Cox only takes postive values)\nindex_of_positive_pledges = kickstarters_2017.usd_pledged_real > 0\n\n# get only positive pledges (using their indexes)\npositive_pledges = kickstarters_2017.usd_pledged_real.loc[index_of_positive_pledges]\n\n# normalize the pledges (w/ Box-Cox)\nnormalized_pledges = stats.boxcox(positive_pledges)[0]\n\n# plot both together to compare\nfig, ax=plt.subplots(1,2)\nsns.distplot(positive_pledges, ax=ax[0])\nax[0].set_title(\"Original Data\")\nsns.distplot(normalized_pledges, ax=ax[1])\nax[1].set_title(\"Normalized data\")",
      "execution_count": null,
      "outputs": []
    },
    {
      "metadata": {
        "_uuid": "06252c91946d610e8487023d1c8fff79a8a4677f",
        "_cell_guid": "cd1b2dc1-8f3f-4888-a725-5b0805758c97"
      },
      "cell_type": "markdown",
      "source": "It's not perfect (it looks like a lot pledges got very few pledges) but it is much closer to normal!"
    },
    {
      "metadata": {
        "_uuid": "6dd21ff124b05826e5ef104f44e1dbf055154e2f",
        "_cell_guid": "0e743622-1827-4982-9956-569365203f40",
        "trusted": false,
        "collapsed": true
      },
      "cell_type": "code",
      "source": "# Your turn! \n# We looked as the usd_pledged_real column. What about the \"pledged\" column? Does it have the same info?\nindex_of_positive_pledges = kickstarters_2017.pledged > 0\n\n# get only positive pledges (using their indexes)\npositive_pledges = kickstarters_2017.pledged.loc[index_of_positive_pledges]\n\n# normalize the pledges (w/ Box-Cox)\nnormalized_pledges = stats.boxcox(positive_pledges)[0]\n\n# plot both together to compare\nfig, ax=plt.subplots(1,2)\nsns.distplot(positive_pledges, ax=ax[0])\nax[0].set_title(\"Original Data\")\nsns.distplot(normalized_pledges, ax=ax[1])\nax[1].set_title(\"Normalized data\")\n",
      "execution_count": null,
      "outputs": []
    },
    {
      "metadata": {
        "_uuid": "52b0af56e3c77db96056e9acd785f8f435f7caf5",
        "_cell_guid": "b4f37fce-4d08-409e-bbbd-6a26c3bbc6ee"
      },
      "cell_type": "markdown",
      "source": "And that's it for today! If you have any questions, be sure to post them in the comments below or [on the forums](https://www.kaggle.com/questions-and-answers). \n\nRemember that your notebook is private by default, and in order to share it with other people or ask for help with it, you'll need to make it public. First, you'll need to save a version of your notebook that shows your current work by hitting the \"Commit & Run\" button. (Your work is saved automatically, but versioning your work lets you go back and look at what it was like at the point you saved it. It also lets you share a nice compiled notebook instead of just the raw code.) Then, once your notebook is finished running, you can go to the Settings tab in the panel to the left (you may have to expand it by hitting the [<] button next to the \"Commit & Run\" button) and setting the \"Visibility\" dropdown to \"Public\".\n\n# More practice!\n___\n\nTry finding a new dataset and pretend you're preparing to preform a [regression analysis](https://www.kaggle.com/rtatman/the-5-day-regression-challenge). ([These datasets are a good start!](https://www.kaggle.com/rtatman/datasets-for-regression-analysis)) Pick three or four variables and decide if you need to normalize or scale any of them and, if you think you should, practice applying the correct technique."
    }
  ],
  "metadata": {
    "kernelspec": {
      "display_name": "Python 3",
      "language": "python",
      "name": "python3"
    },
    "language_info": {
      "codemirror_mode": {
        "version": 3,
        "name": "ipython"
      },
      "nbconvert_exporter": "python",
      "mimetype": "text/x-python",
      "version": "3.6.4",
      "name": "python",
      "file_extension": ".py",
      "pygments_lexer": "ipython3"
    }
  },
  "nbformat": 4,
  "nbformat_minor": 1
}